{
 "cells": [
  {
   "cell_type": "code",
   "source": [
    "import pandas as pd\n",
    "import functions as fn"
   ],
   "execution_count": 1,
   "outputs": [],
   "metadata": {
    "datalore": {
     "node_id": "qTROqCMMLYivCCuEqrtXmJ",
     "type": "CODE",
     "hide_input_from_viewers": false,
     "hide_output_from_viewers": false,
     "report_properties": {
      "rowId": "Hd3o6J6SNMcIl9juvhqXbh"
     }
    }
   }
  },
  {
   "cell_type": "code",
   "execution_count": 2,
   "outputs": [],
   "source": [
    "cals = fn.open_cals_file('cals.txt')"
   ],
   "metadata": {
    "collapsed": false
   }
  },
  {
   "cell_type": "code",
   "execution_count": 3,
   "outputs": [
    {
     "data": {
      "text/plain": "{'Общий': 'https://calendar.google.com/calendar/ical/grinkevichgex%40gmail.com/private-acf1e2f93eb55461f4fcb1c21e917169/basic.ics',\n 'Быт': 'https://calendar.google.com/calendar/ical/bv6595ijs9c44ato3r8fb7m7q4%40group.calendar.google.com/private-f8c7c3dadc2e3ce214dd0f59503b0878/basic.ics',\n 'Дорога': 'https://calendar.google.com/calendar/ical/bv6595ijs9c44ato3r8fb7m7q4%40group.calendar.google.com/private-f8c7c3dadc2e3ce214dd0f59503b0878/basic.ics',\n 'Еда': 'https://calendar.google.com/calendar/ical/inquvd5l166rpghr03ssc152u0%40group.calendar.google.com/private-2e850cf70ed5e06e39d61bdcc19adbfa/basic.ics',\n 'Сон': 'https://calendar.google.com/calendar/ical/b8aiggocfqk5civg5tqceh3ckk%40group.calendar.google.com/private-bc6a4537563a0b7259428ed1dffd6a8c/basic.ics',\n 'Тренирвки': 'https://calendar.google.com/calendar/ical/s22sjiq9h8g98447t17k83crg4%40group.calendar.google.com/private-784e14ef59d56add0e1c5e48bd63c957/basic.ics',\n 'Учеба': 'https://calendar.google.com/calendar/ical/csnoal8l8u4j6jnru48vuq18n8%40group.calendar.google.com/private-6553f2b48dc3575ec15a58fe94dc29e0/basic.ics',\n 'Sima': 'https://calendar.google.com/calendar/ical/n1jc1v4lpkc3adgn80qb1r76t0%40group.calendar.google.com/private-66ca04810528d34da54314961b741846/basic.ics',\n 'Тест': 'https://calendar.google.com/calendar/ical/4776822995e93bcb2b0e17a8e9f8d59e8c27deadd9b8d65ee7111976c96a3add%40group.calendar.google.com/private-49b17c42fd7686307197ff53241c781f/basic.ics',\n 'Яндекс': 'https://calendar.yandex.ru/export/ics.xml?private_token=6aedacbc4a8d2234a98c4d52bbc255401e6bacfd&tz_id=Asia/Yekaterinburg',\n 'РабочийЗадачи': 'https://calendar.yandex.ru/export/ics.xml?private_token=af26788303898b2560a54f65a6fac8a0cdf7db72&tz_id=Asia/Yekaterinburg',\n 'РабочийВстречи': 'https://calendar.yandex.ru/export/ics.xml?private_token=2e97636928fa46925c384a558b9a5f691fa6d78b&tz_id=Asia/Yekaterinburg'}"
     },
     "execution_count": 3,
     "metadata": {},
     "output_type": "execute_result"
    }
   ],
   "source": [
    "cals"
   ],
   "metadata": {
    "collapsed": false
   }
  },
  {
   "cell_type": "code",
   "execution_count": 4,
   "outputs": [],
   "source": [
    "t = fn.get_cal(cals['Тест'])"
   ],
   "metadata": {
    "collapsed": false
   }
  },
  {
   "cell_type": "code",
   "source": [
    "t"
   ],
   "execution_count": 5,
   "outputs": [
    {
     "data": {
      "text/plain": "[{'DTSTART': 'TZID=Asia/Yekaterinburg:20230919T150000',\n  'DTEND': 'TZID=Asia/Yekaterinburg:20230919T160000',\n  'RRULE': 'FREQ=DAILY',\n  'SEQUENCE': '0',\n  'STATUS': 'CONFIRMED',\n  'SUMMARY': '1'},\n {'DTSTART': 'TZID=Asia/Yekaterinburg:20230919T160000',\n  'DTEND': 'TZID=Asia/Yekaterinburg:20230919T170000',\n  'RRULE': 'FREQ=WEEKLY:BYDAY=TU',\n  'SEQUENCE': '0',\n  'STATUS': 'CONFIRMED',\n  'SUMMARY': '2'},\n {'DTSTART': 'TZID=Asia/Yekaterinburg:20230919T170000',\n  'DTEND': 'TZID=Asia/Yekaterinburg:20230919T180000',\n  'RRULE': 'FREQ=MONTHLY:BYDAY=3TU',\n  'SEQUENCE': '0',\n  'STATUS': 'CONFIRMED',\n  'SUMMARY': '3'},\n {'DTSTART': 'TZID=Asia/Yekaterinburg:20230919T190000',\n  'DTEND': 'TZID=Asia/Yekaterinburg:20230919T200000',\n  'RRULE': 'FREQ=WEEKLY:WKST=MO:BYDAY=TU,WE,FR',\n  'SEQUENCE': '0',\n  'STATUS': 'CONFIRMED',\n  'SUMMARY': '5'},\n {'DTSTART': 'TZID=Asia/Yekaterinburg:20230919T200000',\n  'DTEND': 'TZID=Asia/Yekaterinburg:20230919T210000',\n  'RRULE': 'FREQ=DAILY:UNTIL=20231024T185959Z',\n  'SEQUENCE': '0',\n  'STATUS': 'CONFIRMED',\n  'SUMMARY': '6'},\n {'DTSTART': 'VALUE=DATE:20230918',\n  'DTEND': 'VALUE=DATE:20230919',\n  'SEQUENCE': '0',\n  'STATUS': 'CONFIRMED',\n  'SUMMARY': '12'},\n {'DTSTART': 'TZID=Asia/Yekaterinburg:20230918T180000',\n  'DTEND': 'TZID=Asia/Yekaterinburg:20230918T190000',\n  'RRULE': 'FREQ=WEEKLY:BYDAY=FR,MO,TH,TU,WE',\n  'SEQUENCE': '0',\n  'STATUS': 'CONFIRMED',\n  'SUMMARY': '4'},\n {'DTSTART': 'TZID=Asia/Yekaterinburg:20230918T210000',\n  'DTEND': 'TZID=Asia/Yekaterinburg:20230918T220000',\n  'RRULE': 'FREQ=WEEKLY:WKST=MO:BYDAY=MO,TU,WE,TH,FR,SA,SU',\n  'SEQUENCE': '0',\n  'STATUS': 'CONFIRMED',\n  'SUMMARY': '7'},\n {'DTSTART': 'TZID=Asia/Yekaterinburg:20231030T200000',\n  'DTEND': 'TZID=Asia/Yekaterinburg:20231030T210000',\n  'RRULE': 'FREQ=MONTHLY:BYMONTHDAY=30',\n  'SEQUENCE': '0',\n  'STATUS': 'CONFIRMED',\n  'SUMMARY': '8'},\n {'DTSTART': 'TZID=Asia/Yekaterinburg:20231107T200000',\n  'DTEND': 'TZID=Asia/Yekaterinburg:20231107T210000',\n  'RRULE': 'FREQ=MONTHLY:BYDAY=1TU',\n  'SEQUENCE': '0',\n  'STATUS': 'CONFIRMED',\n  'SUMMARY': '9'}]"
     },
     "execution_count": 5,
     "metadata": {},
     "output_type": "execute_result"
    }
   ],
   "metadata": {
    "datalore": {
     "node_id": "g5PrjgtClPz4stam3aL6wn",
     "type": "CODE",
     "hide_input_from_viewers": false,
     "hide_output_from_viewers": false,
     "report_properties": {
      "rowId": "qQH7LDIu6eXw6UuWBbf9Qf"
     }
    }
   }
  },
  {
   "cell_type": "code",
   "execution_count": 6,
   "outputs": [
    {
     "data": {
      "text/plain": "              dtstart               dtend  \\\n0 2023-09-19 15:00:00 2023-09-19 16:00:00   \n1 2023-09-19 16:00:00 2023-09-19 17:00:00   \n2 2023-09-19 17:00:00 2023-09-19 18:00:00   \n3 2023-09-19 19:00:00 2023-09-19 20:00:00   \n4 2023-09-19 20:00:00 2023-09-19 21:00:00   \n6 2023-09-18 18:00:00 2023-09-18 19:00:00   \n7 2023-09-18 21:00:00 2023-09-18 22:00:00   \n8 2023-10-30 20:00:00 2023-10-30 21:00:00   \n9 2023-11-07 20:00:00 2023-11-07 21:00:00   \n\n                                            rrule sequence     status summary  \\\n0                                      FREQ=DAILY        0  CONFIRMED       1   \n1                            FREQ=WEEKLY:BYDAY=TU        0  CONFIRMED       2   \n2                          FREQ=MONTHLY:BYDAY=3TU        0  CONFIRMED       3   \n3              FREQ=WEEKLY:WKST=MO:BYDAY=TU,WE,FR        0  CONFIRMED       5   \n4               FREQ=DAILY:UNTIL=20231024T185959Z        0  CONFIRMED       6   \n6                FREQ=WEEKLY:BYDAY=FR,MO,TH,TU,WE        0  CONFIRMED       4   \n7  FREQ=WEEKLY:WKST=MO:BYDAY=MO,TU,WE,TH,FR,SA,SU        0  CONFIRMED       7   \n8                      FREQ=MONTHLY:BYMONTHDAY=30        0  CONFIRMED       8   \n9                          FREQ=MONTHLY:BYDAY=1TU        0  CONFIRMED       9   \n\n  dtstart_time dtend_time     st_date  duration  \n0       150000     160000  2023-09-19       1.0  \n1       160000     170000  2023-09-19       1.0  \n2       170000     180000  2023-09-19       1.0  \n3       190000     200000  2023-09-19       1.0  \n4       200000     210000  2023-09-19       1.0  \n6       180000     190000  2023-09-18       1.0  \n7       210000     220000  2023-09-18       1.0  \n8       200000     210000  2023-10-30       1.0  \n9       200000     210000  2023-11-07       1.0  ",
      "text/html": "<div>\n<style scoped>\n    .dataframe tbody tr th:only-of-type {\n        vertical-align: middle;\n    }\n\n    .dataframe tbody tr th {\n        vertical-align: top;\n    }\n\n    .dataframe thead th {\n        text-align: right;\n    }\n</style>\n<table border=\"1\" class=\"dataframe\">\n  <thead>\n    <tr style=\"text-align: right;\">\n      <th></th>\n      <th>dtstart</th>\n      <th>dtend</th>\n      <th>rrule</th>\n      <th>sequence</th>\n      <th>status</th>\n      <th>summary</th>\n      <th>dtstart_time</th>\n      <th>dtend_time</th>\n      <th>st_date</th>\n      <th>duration</th>\n    </tr>\n  </thead>\n  <tbody>\n    <tr>\n      <th>0</th>\n      <td>2023-09-19 15:00:00</td>\n      <td>2023-09-19 16:00:00</td>\n      <td>FREQ=DAILY</td>\n      <td>0</td>\n      <td>CONFIRMED</td>\n      <td>1</td>\n      <td>150000</td>\n      <td>160000</td>\n      <td>2023-09-19</td>\n      <td>1.0</td>\n    </tr>\n    <tr>\n      <th>1</th>\n      <td>2023-09-19 16:00:00</td>\n      <td>2023-09-19 17:00:00</td>\n      <td>FREQ=WEEKLY:BYDAY=TU</td>\n      <td>0</td>\n      <td>CONFIRMED</td>\n      <td>2</td>\n      <td>160000</td>\n      <td>170000</td>\n      <td>2023-09-19</td>\n      <td>1.0</td>\n    </tr>\n    <tr>\n      <th>2</th>\n      <td>2023-09-19 17:00:00</td>\n      <td>2023-09-19 18:00:00</td>\n      <td>FREQ=MONTHLY:BYDAY=3TU</td>\n      <td>0</td>\n      <td>CONFIRMED</td>\n      <td>3</td>\n      <td>170000</td>\n      <td>180000</td>\n      <td>2023-09-19</td>\n      <td>1.0</td>\n    </tr>\n    <tr>\n      <th>3</th>\n      <td>2023-09-19 19:00:00</td>\n      <td>2023-09-19 20:00:00</td>\n      <td>FREQ=WEEKLY:WKST=MO:BYDAY=TU,WE,FR</td>\n      <td>0</td>\n      <td>CONFIRMED</td>\n      <td>5</td>\n      <td>190000</td>\n      <td>200000</td>\n      <td>2023-09-19</td>\n      <td>1.0</td>\n    </tr>\n    <tr>\n      <th>4</th>\n      <td>2023-09-19 20:00:00</td>\n      <td>2023-09-19 21:00:00</td>\n      <td>FREQ=DAILY:UNTIL=20231024T185959Z</td>\n      <td>0</td>\n      <td>CONFIRMED</td>\n      <td>6</td>\n      <td>200000</td>\n      <td>210000</td>\n      <td>2023-09-19</td>\n      <td>1.0</td>\n    </tr>\n    <tr>\n      <th>6</th>\n      <td>2023-09-18 18:00:00</td>\n      <td>2023-09-18 19:00:00</td>\n      <td>FREQ=WEEKLY:BYDAY=FR,MO,TH,TU,WE</td>\n      <td>0</td>\n      <td>CONFIRMED</td>\n      <td>4</td>\n      <td>180000</td>\n      <td>190000</td>\n      <td>2023-09-18</td>\n      <td>1.0</td>\n    </tr>\n    <tr>\n      <th>7</th>\n      <td>2023-09-18 21:00:00</td>\n      <td>2023-09-18 22:00:00</td>\n      <td>FREQ=WEEKLY:WKST=MO:BYDAY=MO,TU,WE,TH,FR,SA,SU</td>\n      <td>0</td>\n      <td>CONFIRMED</td>\n      <td>7</td>\n      <td>210000</td>\n      <td>220000</td>\n      <td>2023-09-18</td>\n      <td>1.0</td>\n    </tr>\n    <tr>\n      <th>8</th>\n      <td>2023-10-30 20:00:00</td>\n      <td>2023-10-30 21:00:00</td>\n      <td>FREQ=MONTHLY:BYMONTHDAY=30</td>\n      <td>0</td>\n      <td>CONFIRMED</td>\n      <td>8</td>\n      <td>200000</td>\n      <td>210000</td>\n      <td>2023-10-30</td>\n      <td>1.0</td>\n    </tr>\n    <tr>\n      <th>9</th>\n      <td>2023-11-07 20:00:00</td>\n      <td>2023-11-07 21:00:00</td>\n      <td>FREQ=MONTHLY:BYDAY=1TU</td>\n      <td>0</td>\n      <td>CONFIRMED</td>\n      <td>9</td>\n      <td>200000</td>\n      <td>210000</td>\n      <td>2023-11-07</td>\n      <td>1.0</td>\n    </tr>\n  </tbody>\n</table>\n</div>"
     },
     "execution_count": 6,
     "metadata": {},
     "output_type": "execute_result"
    }
   ],
   "source": [
    "fn.dict_to_df(t)"
   ],
   "metadata": {
    "collapsed": false
   }
  },
  {
   "cell_type": "code",
   "execution_count": 7,
   "outputs": [],
   "source": [
    "t1 = fn.dict_to_df(t)"
   ],
   "metadata": {
    "collapsed": false
   }
  },
  {
   "cell_type": "code",
   "execution_count": 8,
   "outputs": [
    {
     "data": {
      "text/plain": "array(['1', '2', '3', '5', '6', '4', '7', '8', '9'], dtype=object)"
     },
     "execution_count": 8,
     "metadata": {},
     "output_type": "execute_result"
    }
   ],
   "source": [
    "t1['summary'].unique()"
   ],
   "metadata": {
    "collapsed": false
   }
  },
  {
   "cell_type": "code",
   "execution_count": 8,
   "outputs": [],
   "source": [],
   "metadata": {
    "collapsed": false
   }
  },
  {
   "cell_type": "code",
   "execution_count": 9,
   "outputs": [
    {
     "data": {
      "text/plain": "0                                        FREQ=DAILY\n1                              FREQ=WEEKLY:BYDAY=TU\n2                            FREQ=MONTHLY:BYDAY=3TU\n3                FREQ=WEEKLY:WKST=MO:BYDAY=TU,WE,FR\n4                 FREQ=DAILY:UNTIL=20231024T185959Z\n6                  FREQ=WEEKLY:BYDAY=FR,MO,TH,TU,WE\n7    FREQ=WEEKLY:WKST=MO:BYDAY=MO,TU,WE,TH,FR,SA,SU\n8                        FREQ=MONTHLY:BYMONTHDAY=30\n9                            FREQ=MONTHLY:BYDAY=1TU\nName: rrule, dtype: object"
     },
     "execution_count": 9,
     "metadata": {},
     "output_type": "execute_result"
    }
   ],
   "source": [
    "t1['rrule']"
   ],
   "metadata": {
    "collapsed": false
   }
  },
  {
   "cell_type": "code",
   "execution_count": 10,
   "outputs": [
    {
     "name": "stderr",
     "output_type": "stream",
     "text": [
      "C:\\Users\\grinkevich\\DataspellProjects\\ICalParse\\venv\\functions.py:160: SettingWithCopyWarning: \n",
      "A value is trying to be set on a copy of a slice from a DataFrame.\n",
      "Try using .loc[row_indexer,col_indexer] = value instead\n",
      "\n",
      "See the caveats in the documentation: https://pandas.pydata.org/pandas-docs/stable/user_guide/indexing.html#returning-a-view-versus-a-copy\n",
      "  rule_bord[field] = e[field]\n",
      "C:\\Users\\grinkevich\\DataspellProjects\\ICalParse\\venv\\functions.py:160: SettingWithCopyWarning: \n",
      "A value is trying to be set on a copy of a slice from a DataFrame.\n",
      "Try using .loc[row_indexer,col_indexer] = value instead\n",
      "\n",
      "See the caveats in the documentation: https://pandas.pydata.org/pandas-docs/stable/user_guide/indexing.html#returning-a-view-versus-a-copy\n",
      "  rule_bord[field] = e[field]\n",
      "C:\\Users\\grinkevich\\DataspellProjects\\ICalParse\\venv\\functions.py:160: SettingWithCopyWarning: \n",
      "A value is trying to be set on a copy of a slice from a DataFrame.\n",
      "Try using .loc[row_indexer,col_indexer] = value instead\n",
      "\n",
      "See the caveats in the documentation: https://pandas.pydata.org/pandas-docs/stable/user_guide/indexing.html#returning-a-view-versus-a-copy\n",
      "  rule_bord[field] = e[field]\n",
      "C:\\Users\\grinkevich\\DataspellProjects\\ICalParse\\venv\\functions.py:160: SettingWithCopyWarning: \n",
      "A value is trying to be set on a copy of a slice from a DataFrame.\n",
      "Try using .loc[row_indexer,col_indexer] = value instead\n",
      "\n",
      "See the caveats in the documentation: https://pandas.pydata.org/pandas-docs/stable/user_guide/indexing.html#returning-a-view-versus-a-copy\n",
      "  rule_bord[field] = e[field]\n"
     ]
    },
    {
     "data": {
      "text/plain": "      timeline  dayofweek  month  day             dtstart               dtend  \\\n0   2023-11-01        2.0   11.0  1.0 2023-09-19 15:00:00 2023-09-19 16:00:00   \n1   2023-11-02        3.0   11.0  2.0 2023-09-19 15:00:00 2023-09-19 16:00:00   \n2   2023-11-03        4.0   11.0  3.0 2023-09-19 15:00:00 2023-09-19 16:00:00   \n3   2023-11-04        5.0   11.0  4.0 2023-09-19 15:00:00 2023-09-19 16:00:00   \n4   2023-11-05        6.0   11.0  5.0 2023-09-19 15:00:00 2023-09-19 16:00:00   \n..         ...        ...    ...  ...                 ...                 ...   \n97         NaT        NaN    NaN  NaN                 NaT                 NaT   \n98         NaT        NaN    NaN  NaN                 NaT                 NaT   \n99         NaT        NaN    NaN  NaN                 NaT                 NaT   \n100        NaT        NaN    NaN  NaN                 NaT                 NaT   \n101        NaT        NaN    NaN  NaN                 NaT                 NaT   \n\n                            rrule sequence     status summary dtstart_time  \\\n0                             NaN        0  CONFIRMED       1       150000   \n1                             NaN        0  CONFIRMED       1       150000   \n2                             NaN        0  CONFIRMED       1       150000   \n3                             NaN        0  CONFIRMED       1       150000   \n4                             NaN        0  CONFIRMED       1       150000   \n..                            ...      ...        ...     ...          ...   \n97   [MO, TU, WE, TH, FR, SA, SU]        0  CONFIRMED       7       210000   \n98                        MONTHLY        0  CONFIRMED       8       200000   \n99                             30        0  CONFIRMED       8       200000   \n100                       MONTHLY        0  CONFIRMED       9       200000   \n101                           1TU        0  CONFIRMED       9       200000   \n\n    dtend_time     st_date  duration  index  \n0       160000  2023-09-19       1.0    NaN  \n1       160000  2023-09-19       1.0    NaN  \n2       160000  2023-09-19       1.0    NaN  \n3       160000  2023-09-19       1.0    NaN  \n4       160000  2023-09-19       1.0    NaN  \n..         ...         ...       ...    ...  \n97      220000  2023-09-18       1.0    NaN  \n98      210000  2023-10-30       1.0    NaN  \n99      210000  2023-10-30       1.0    NaN  \n100     210000  2023-11-07       1.0    NaN  \n101     210000  2023-11-07       1.0    NaN  \n\n[102 rows x 15 columns]",
      "text/html": "<div>\n<style scoped>\n    .dataframe tbody tr th:only-of-type {\n        vertical-align: middle;\n    }\n\n    .dataframe tbody tr th {\n        vertical-align: top;\n    }\n\n    .dataframe thead th {\n        text-align: right;\n    }\n</style>\n<table border=\"1\" class=\"dataframe\">\n  <thead>\n    <tr style=\"text-align: right;\">\n      <th></th>\n      <th>timeline</th>\n      <th>dayofweek</th>\n      <th>month</th>\n      <th>day</th>\n      <th>dtstart</th>\n      <th>dtend</th>\n      <th>rrule</th>\n      <th>sequence</th>\n      <th>status</th>\n      <th>summary</th>\n      <th>dtstart_time</th>\n      <th>dtend_time</th>\n      <th>st_date</th>\n      <th>duration</th>\n      <th>index</th>\n    </tr>\n  </thead>\n  <tbody>\n    <tr>\n      <th>0</th>\n      <td>2023-11-01</td>\n      <td>2.0</td>\n      <td>11.0</td>\n      <td>1.0</td>\n      <td>2023-09-19 15:00:00</td>\n      <td>2023-09-19 16:00:00</td>\n      <td>NaN</td>\n      <td>0</td>\n      <td>CONFIRMED</td>\n      <td>1</td>\n      <td>150000</td>\n      <td>160000</td>\n      <td>2023-09-19</td>\n      <td>1.0</td>\n      <td>NaN</td>\n    </tr>\n    <tr>\n      <th>1</th>\n      <td>2023-11-02</td>\n      <td>3.0</td>\n      <td>11.0</td>\n      <td>2.0</td>\n      <td>2023-09-19 15:00:00</td>\n      <td>2023-09-19 16:00:00</td>\n      <td>NaN</td>\n      <td>0</td>\n      <td>CONFIRMED</td>\n      <td>1</td>\n      <td>150000</td>\n      <td>160000</td>\n      <td>2023-09-19</td>\n      <td>1.0</td>\n      <td>NaN</td>\n    </tr>\n    <tr>\n      <th>2</th>\n      <td>2023-11-03</td>\n      <td>4.0</td>\n      <td>11.0</td>\n      <td>3.0</td>\n      <td>2023-09-19 15:00:00</td>\n      <td>2023-09-19 16:00:00</td>\n      <td>NaN</td>\n      <td>0</td>\n      <td>CONFIRMED</td>\n      <td>1</td>\n      <td>150000</td>\n      <td>160000</td>\n      <td>2023-09-19</td>\n      <td>1.0</td>\n      <td>NaN</td>\n    </tr>\n    <tr>\n      <th>3</th>\n      <td>2023-11-04</td>\n      <td>5.0</td>\n      <td>11.0</td>\n      <td>4.0</td>\n      <td>2023-09-19 15:00:00</td>\n      <td>2023-09-19 16:00:00</td>\n      <td>NaN</td>\n      <td>0</td>\n      <td>CONFIRMED</td>\n      <td>1</td>\n      <td>150000</td>\n      <td>160000</td>\n      <td>2023-09-19</td>\n      <td>1.0</td>\n      <td>NaN</td>\n    </tr>\n    <tr>\n      <th>4</th>\n      <td>2023-11-05</td>\n      <td>6.0</td>\n      <td>11.0</td>\n      <td>5.0</td>\n      <td>2023-09-19 15:00:00</td>\n      <td>2023-09-19 16:00:00</td>\n      <td>NaN</td>\n      <td>0</td>\n      <td>CONFIRMED</td>\n      <td>1</td>\n      <td>150000</td>\n      <td>160000</td>\n      <td>2023-09-19</td>\n      <td>1.0</td>\n      <td>NaN</td>\n    </tr>\n    <tr>\n      <th>...</th>\n      <td>...</td>\n      <td>...</td>\n      <td>...</td>\n      <td>...</td>\n      <td>...</td>\n      <td>...</td>\n      <td>...</td>\n      <td>...</td>\n      <td>...</td>\n      <td>...</td>\n      <td>...</td>\n      <td>...</td>\n      <td>...</td>\n      <td>...</td>\n      <td>...</td>\n    </tr>\n    <tr>\n      <th>97</th>\n      <td>NaT</td>\n      <td>NaN</td>\n      <td>NaN</td>\n      <td>NaN</td>\n      <td>NaT</td>\n      <td>NaT</td>\n      <td>[MO, TU, WE, TH, FR, SA, SU]</td>\n      <td>0</td>\n      <td>CONFIRMED</td>\n      <td>7</td>\n      <td>210000</td>\n      <td>220000</td>\n      <td>2023-09-18</td>\n      <td>1.0</td>\n      <td>NaN</td>\n    </tr>\n    <tr>\n      <th>98</th>\n      <td>NaT</td>\n      <td>NaN</td>\n      <td>NaN</td>\n      <td>NaN</td>\n      <td>NaT</td>\n      <td>NaT</td>\n      <td>MONTHLY</td>\n      <td>0</td>\n      <td>CONFIRMED</td>\n      <td>8</td>\n      <td>200000</td>\n      <td>210000</td>\n      <td>2023-10-30</td>\n      <td>1.0</td>\n      <td>NaN</td>\n    </tr>\n    <tr>\n      <th>99</th>\n      <td>NaT</td>\n      <td>NaN</td>\n      <td>NaN</td>\n      <td>NaN</td>\n      <td>NaT</td>\n      <td>NaT</td>\n      <td>30</td>\n      <td>0</td>\n      <td>CONFIRMED</td>\n      <td>8</td>\n      <td>200000</td>\n      <td>210000</td>\n      <td>2023-10-30</td>\n      <td>1.0</td>\n      <td>NaN</td>\n    </tr>\n    <tr>\n      <th>100</th>\n      <td>NaT</td>\n      <td>NaN</td>\n      <td>NaN</td>\n      <td>NaN</td>\n      <td>NaT</td>\n      <td>NaT</td>\n      <td>MONTHLY</td>\n      <td>0</td>\n      <td>CONFIRMED</td>\n      <td>9</td>\n      <td>200000</td>\n      <td>210000</td>\n      <td>2023-11-07</td>\n      <td>1.0</td>\n      <td>NaN</td>\n    </tr>\n    <tr>\n      <th>101</th>\n      <td>NaT</td>\n      <td>NaN</td>\n      <td>NaN</td>\n      <td>NaN</td>\n      <td>NaT</td>\n      <td>NaT</td>\n      <td>1TU</td>\n      <td>0</td>\n      <td>CONFIRMED</td>\n      <td>9</td>\n      <td>200000</td>\n      <td>210000</td>\n      <td>2023-11-07</td>\n      <td>1.0</td>\n      <td>NaN</td>\n    </tr>\n  </tbody>\n</table>\n<p>102 rows × 15 columns</p>\n</div>"
     },
     "execution_count": 10,
     "metadata": {},
     "output_type": "execute_result"
    }
   ],
   "source": [
    "# t2 = fn.events_by_rules(t1, '2023-11-01', '2023-11-24')\n",
    "fn.events_by_rules(t1, '2023-11-01', '2023-12-24')"
   ],
   "metadata": {
    "collapsed": false
   }
  },
  {
   "cell_type": "code",
   "execution_count": 19,
   "outputs": [
    {
     "name": "stderr",
     "output_type": "stream",
     "text": [
      "C:\\Users\\grinkevich\\DataspellProjects\\ICalParse\\venv\\functions.py:160: SettingWithCopyWarning: \n",
      "A value is trying to be set on a copy of a slice from a DataFrame.\n",
      "Try using .loc[row_indexer,col_indexer] = value instead\n",
      "\n",
      "See the caveats in the documentation: https://pandas.pydata.org/pandas-docs/stable/user_guide/indexing.html#returning-a-view-versus-a-copy\n",
      "  rule_bord[field] = e[field]\n",
      "C:\\Users\\grinkevich\\DataspellProjects\\ICalParse\\venv\\functions.py:160: SettingWithCopyWarning: \n",
      "A value is trying to be set on a copy of a slice from a DataFrame.\n",
      "Try using .loc[row_indexer,col_indexer] = value instead\n",
      "\n",
      "See the caveats in the documentation: https://pandas.pydata.org/pandas-docs/stable/user_guide/indexing.html#returning-a-view-versus-a-copy\n",
      "  rule_bord[field] = e[field]\n",
      "C:\\Users\\grinkevich\\DataspellProjects\\ICalParse\\venv\\functions.py:160: SettingWithCopyWarning: \n",
      "A value is trying to be set on a copy of a slice from a DataFrame.\n",
      "Try using .loc[row_indexer,col_indexer] = value instead\n",
      "\n",
      "See the caveats in the documentation: https://pandas.pydata.org/pandas-docs/stable/user_guide/indexing.html#returning-a-view-versus-a-copy\n",
      "  rule_bord[field] = e[field]\n",
      "C:\\Users\\grinkevich\\DataspellProjects\\ICalParse\\venv\\functions.py:160: SettingWithCopyWarning: \n",
      "A value is trying to be set on a copy of a slice from a DataFrame.\n",
      "Try using .loc[row_indexer,col_indexer] = value instead\n",
      "\n",
      "See the caveats in the documentation: https://pandas.pydata.org/pandas-docs/stable/user_guide/indexing.html#returning-a-view-versus-a-copy\n",
      "  rule_bord[field] = e[field]\n"
     ]
    },
    {
     "data": {
      "text/plain": "array(['1', '2', '3', '5', '6', '4', '7', '8', '9'], dtype=object)"
     },
     "execution_count": 19,
     "metadata": {},
     "output_type": "execute_result"
    }
   ],
   "source": [
    "t2 = fn.events_by_rules(t1, '2023-11-01', '2023-11-24')\n",
    "t2['summary'].unique()"
   ],
   "metadata": {
    "collapsed": false,
    "ExecuteTime": {
     "end_time": "2023-11-12T16:46:26.428354600Z",
     "start_time": "2023-11-12T16:46:26.301828400Z"
    }
   }
  },
  {
   "cell_type": "code",
   "execution_count": 10,
   "outputs": [],
   "source": [],
   "metadata": {
    "collapsed": false
   }
  },
  {
   "cell_type": "code",
   "execution_count": 10,
   "outputs": [],
   "source": [],
   "metadata": {
    "collapsed": false
   }
  },
  {
   "cell_type": "code",
   "execution_count": 10,
   "outputs": [],
   "source": [],
   "metadata": {
    "collapsed": false
   }
  },
  {
   "cell_type": "code",
   "execution_count": 11,
   "outputs": [],
   "source": [
    "# t1.query(\"dtstart >= '2023-10-30' and dtstart <='2023-11-05'\") \\\n",
    "#     .sort_values('dtstart', ascending=False) \\\n",
    "#     .groupby('summary')['duration'].sum()"
   ],
   "metadata": {
    "collapsed": false
   }
  },
  {
   "cell_type": "code",
   "execution_count": 12,
   "outputs": [],
   "source": [
    "# pd.pivot_table(\n",
    "#     t1.query(\"dtstart >= '2023-10-30' and dtstart <='2023-11-05'\"),\n",
    "#     index='summary',\n",
    "#     values=['duration'],\n",
    "#     aggfunc='sum'\n",
    "# )\n"
   ],
   "metadata": {
    "collapsed": false
   }
  },
  {
   "cell_type": "code",
   "execution_count": 13,
   "outputs": [],
   "source": [
    "# t1[t1['dtstart'] >= '2023-10-16'].groupby('summary')['duration'].sum()"
   ],
   "metadata": {
    "collapsed": false
   }
  },
  {
   "cell_type": "code",
   "execution_count": 14,
   "outputs": [],
   "source": [
    "# a = fn.events_by_rules(t1, '2023-09-18', '2023-11-24')"
   ],
   "metadata": {
    "collapsed": false
   }
  },
  {
   "cell_type": "code",
   "execution_count": 14,
   "outputs": [],
   "source": [],
   "metadata": {
    "collapsed": false
   }
  },
  {
   "cell_type": "code",
   "execution_count": 15,
   "outputs": [],
   "source": [
    "from datetime import datetime as dt"
   ],
   "metadata": {
    "collapsed": false
   }
  },
  {
   "cell_type": "code",
   "execution_count": 16,
   "outputs": [],
   "source": [
    "date_value = dt.today()"
   ],
   "metadata": {
    "collapsed": false
   }
  },
  {
   "cell_type": "code",
   "execution_count": 17,
   "outputs": [],
   "source": [
    "def week_number_of_month(date_value):\n",
    "    return (date_value.isocalendar()[1] - date_value.replace(day=1).isocalendar()[1] + 1)"
   ],
   "metadata": {
    "collapsed": false
   }
  },
  {
   "cell_type": "code",
   "execution_count": 18,
   "outputs": [
    {
     "data": {
      "text/plain": "45"
     },
     "execution_count": 18,
     "metadata": {},
     "output_type": "execute_result"
    }
   ],
   "source": [
    "date_value.isocalendar()[1]"
   ],
   "metadata": {
    "collapsed": false
   }
  },
  {
   "cell_type": "code",
   "execution_count": 18,
   "outputs": [],
   "source": [],
   "metadata": {
    "collapsed": false
   }
  },
  {
   "cell_type": "code",
   "execution_count": 18,
   "outputs": [],
   "source": [],
   "metadata": {
    "collapsed": false
   }
  },
  {
   "cell_type": "code",
   "execution_count": 18,
   "outputs": [],
   "source": [],
   "metadata": {
    "collapsed": false
   }
  },
  {
   "cell_type": "code",
   "execution_count": 18,
   "outputs": [],
   "source": [],
   "metadata": {
    "collapsed": false
   }
  },
  {
   "cell_type": "code",
   "execution_count": 18,
   "outputs": [],
   "source": [],
   "metadata": {
    "collapsed": false
   }
  },
  {
   "cell_type": "code",
   "execution_count": 18,
   "outputs": [],
   "source": [],
   "metadata": {
    "collapsed": false
   }
  }
 ],
 "metadata": {
  "kernelspec": {
   "name": "python3",
   "language": "python",
   "display_name": "Python 3 (ipykernel)"
  },
  "datalore": {
   "computation_mode": "JUPYTER",
   "package_manager": "pip",
   "base_environment": "default",
   "packages": [
    {
     "name": "csv-ical",
     "source": "PIP"
    }
   ],
   "report_row_ids": [
    "Hd3o6J6SNMcIl9juvhqXbh",
    "qQH7LDIu6eXw6UuWBbf9Qf",
    "TRhmpUB2QV4oYEyGMW5TQ9",
    "GfEqGtvEivZfx0DTNtpRNZ",
    "oYFEBsTeZ7IpDzNyoPtGFJ",
    "0q8u67YmCQren9tLtVMoN7",
    "P8b6xvvwmVVMP8ZydxhCXv",
    "mBa8V9PePVeRNVjvOgM89v",
    "GhkDYqrNhyTP8BqpfJmaiL"
   ],
   "version": 3
  }
 },
 "nbformat": 4,
 "nbformat_minor": 4
}
